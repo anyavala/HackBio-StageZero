{
 "cells": [
  {
   "cell_type": "code",
   "execution_count": 4,
   "id": "43ebfa85",
   "metadata": {},
   "outputs": [],
   "source": [
    "member_team_asparagine = {\n",
    "    \"Ayşenur Akcan\": {\n",
    "        \"Slack Username\": \"@Ayşenur Akcan\",\n",
    "        \"Country\": \"Türkiye\",\n",
    "        \"Hobby\": \"Mending something\",\n",
    "        \"Affiliation\": \"Istanbul Technical University\",\n",
    "        \"DNA Sequence of Favourite Gene\": \"TP3- ATGGAGGAGCCGCAGTCAGATCCTAGCGTCGAGCCCCCTCTGAGTCAGGAAACATTTTCAGACCTATGGAAACTACTTCCTGAAAACAACGTTCT\"\n",
    "    },\n",
    "    \"Oni David Sunday\": {\n",
    "        \"Slack Username\": \"@Sunday\",\n",
    "        \"Country\": \"Nigeria\",\n",
    "        \"Hobby\": \"Reading\",\n",
    "        \"Affiliation\": \"Wageningen University and Research\",\n",
    "        \"DNA Sequence of Favourite Gene\": \"AKT1 - TCTTCTCCCACTCCCCAGCAAAGTCCCCCTTTTGTGAGTGTAGCTGCCAGTACCTAGGTGAATGGTTGACTCCCCTCGGAGCCTTCCT...\"\n",
    "    },\n",
    "    \"Noor Ul Ain Amir\": {\n",
    "        \"Slack Username\": \"@Noor Ul Ain Amir\",\n",
    "        \"Country\": \"Pakistan\",\n",
    "        \"Hobby\": \"Baking\",\n",
    "        \"Affiliation\": \"Forman Christian College, University\",\n",
    "        \"DNA Sequence of Favourite Gene\": \"SHH - ACAAGCTCTCCAGGCTTGCTACCATTTAAAATCAGACTCTTTTTGTCTTTTGATTGCTGTCTCGCGACCCAACTCCGATGTGTTCCGTTATCAGCGGCCGGCAGCCTGCCATTCCAGCCCCT...\"\n",
    "    },\n",
    "    \"Ozlem Kalkan\": {\n",
    "        \"Slack Username\": \"@anyavala...\",\n",
    "        \"Country\": \"Ukraine- Turkey\",\n",
    "        \"Hobby\": \"doing sport\",\n",
    "        \"Affiliation\": \"Bonn University\",\n",
    "        \"DNA Sequence of Favourite Gene\": \"8OHY - ATGGCTCAAAGCACTGTTTTGCCTATGCACTGTTTATACGGGATATTCCTCGAAGGCAACCTAAAGATTCAAAAGAATGATCAGGAAGGACTAAAGAAGTTTAAAGATAATATCAAAAAATT…\"\n",
    "    },\n",
    "    \"Daria Kriuchkova\": {\n",
    "        \"Slack Username\": \"@Daria\",\n",
    "        \"Country\": \"Ukraine\",\n",
    "        \"Hobby\": \"Knitting\",\n",
    "        \"Affiliation\": \"Kharkiv Polytechnic Institute\",\n",
    "        \"DNA Sequence of Favourite Gene\": \"BRCA1 - ATGGAAGTTGTCATTTTGTGTTTCCAGGATTTATTTGCTCTTCGTGTCTTTGGGTAGCTGG…\"\n",
    "    },\n",
    "    \"Minenhle Mayisela\": {\n",
    "        \"Slack Username\": \"@Minenhle Mayisela\",\n",
    "        \"Country\": \"Eswatini and South Africa\",\n",
    "        \"Hobby\": \"Reading\",\n",
    "        \"Affiliation\": \"University of the Witwatersrand\",\n",
    "        \"DNA Sequence of Favourite Gene\": \"LMNA - GACAAATTCCTTGACCCGAGGAGGATAGGGATGTGGCCTTCGGTCTTTCCTCGCAGCTCCGGGGCAAGCTAGGAGTGGGATGGAAGTCGAGGTCCCTAATTTTTTAAGGGGAGGGTGCGGGGAGAAGGGGTAGTATGCGGAAACAGAGCGGGTATGAAGCTGGCTAACGCCGCGCGCCCCCTCCCAGGACCCGCTCCTGCCCCGCGCCGG\"\n",
    "\n",
    "    },\n",
    "    \"Seventh Member\": {\n",
    "        \"Slack Username\": \"@...\",\n",
    "        \"Country\": \"...\",\n",
    "        \"Hobby\": \"...\",\n",
    "        \"Affiliation\": \"...\",\n",
    "        \"DNA Sequence of Favourite Gene\": \"...\"\n",
    "    },\n",
    "    \"Eighth Member\": {\n",
    "        \"Slack Username\": \"@...\",\n",
    "        \"Country\": \"...\",\n",
    "        \"Hobby\": \"...\",\n",
    "        \"Affiliation\": \"...\",\n",
    "        \"DNA Sequence of Favourite Gene\": \"...\"\n",
    "    }\n",
    "}\n"
   ]
  },
  {
   "cell_type": "code",
   "execution_count": 2,
   "id": "bb968b72",
   "metadata": {},
   "outputs": [
    {
     "name": "stdout",
     "output_type": "stream",
     "text": [
      "{'Ayşenur Akcan': {'Slack Username': '@Ayşenur Akcan', 'Country': 'Türkiye', 'Hobby': 'Mending something', 'Affiliation': 'Istanbul Technical University', 'DNA Sequence of Favourite Gene': 'TP3- ATGGAGGAGCCGCAGTCAGATCCTAGCGTCGAGCCCCCTCTGAGTCAGGAAACATTTTCAGACCTATGGAAACTACTTCCTGAAAACAACGTTCT'}, 'Oni David Sunday': {'Slack Username': '@Sunday', 'Country': 'Nigeria', 'Hobby': 'Reading', 'Affiliation': 'Wageningen University and Research', 'DNA Sequence of Favourite Gene': 'AKT1 - TCTTCTCCCACTCCCCAGCAAAGTCCCCCTTTTGTGAGTGTAGCTGCCAGTACCTAGGTGAATGGTTGACTCCCCTCGGAGCCTTCCT...'}, 'Noor Ul Ain Amir': {'Slack Username': '@Noor Ul Ain Amir', 'Country': 'Pakistan', 'Hobby': 'Baking', 'Affiliation': 'Forman Christian College, University', 'DNA Sequence of Favourite Gene': 'SHH - ACAAGCTCTCCAGGCTTGCTACCATTTAAAATCAGACTCTTTTTGTCTTTTGATTGCTGTCTCGCGACCCAACTCCGATGTGTTCCGTTATCAGCGGCCGGCAGCCTGCCATTCCAGCCCCT...'}, 'Ozlem Kalkan': {'Slack Username': '@anyavala...', 'Country': 'Ukraine- Turkey', 'Hobby': 'doing sport', 'Affiliation': 'Bonn University', 'DNA Sequence of Favourite Gene': '8OHY - ATGGCTCAAAGCACTGTTTTGCCTATGCACTGTTTATACGGGATATTCCTCGAAGGCAACCTAAAGATTCAAAAGAATGATCAGGAAGGACTAAAGAAGTTTAAAGATAATATCAAAAAATT…'}, 'Daria Kriuchkova': {'Slack Username': '@Daria', 'Country': 'Ukraine', 'Hobby': 'Knitting', 'Affiliation': 'Kharkiv Polytechnic Institute', 'DNA Sequence of Favourite Gene': 'BRCA1 - ATGGAAGTTGTCATTTTGTGTTTCCAGGATTTATTTGCTCTTCGTGTCTTTGGGTAGCTGG…'}, 'Minenhle Mayisela': {'Slack Username': '@Minenhle Mayisela', 'Country': 'Eswatini and South Africa', 'Hobby': 'Reading', 'Affiliation': 'University of the Witwatersrand', 'DNA Sequence of Favourite Gene': 'LMNA - GACAAATTCCTTGACCCGAGGAGGATAGGGATGTGGCCTTCGGTCTTTCCTCGCAGCTCCGGGGCAAGCTAGGAGTGGGATGGAAGTCGAGGTCCCTAATTTTTTAAGGGGAGGGTGCGGGGAGAAGGGGTAGTATGCGGAAACAGAGCGGGTATGAAGCTGGCTAACGCCGCGCGCCCCCTCCCAGGACCCGCTCCTGCCCCGCGCCGG'}, 'Seventh Member': {'Slack Username': '@...', 'Country': '...', 'Hobby': '...', 'Affiliation': '...', 'DNA Sequence of Favourite Gene': '...'}, 'Eighth Member': {'Slack Username': '@...', 'Country': '...', 'Hobby': '...', 'Affiliation': '...', 'DNA Sequence of Favourite Gene': '...'}}\n"
     ]
    }
   ],
   "source": [
    "print(member_team_asparagine)"
   ]
  },
  {
   "cell_type": "code",
   "execution_count": 8,
   "id": "739aae0b",
   "metadata": {},
   "outputs": [
    {
     "name": "stdout",
     "output_type": "stream",
     "text": [
      "Ayşenur Akcan\n",
      "Oni David Sunday\n",
      "Noor Ul Ain Amir\n",
      "Ozlem Kalkan\n",
      "Daria Kriuchkova\n",
      "Minenhle Mayisela\n",
      "Seventh Member\n",
      "Eighth Member\n"
     ]
    }
   ],
   "source": [
    "def team_members(file):\n",
    "    for member in file.keys():\n",
    "        print(member)\n",
    "team_members(member_team_asparagine)       "
   ]
  },
  {
   "cell_type": "code",
   "execution_count": 2,
   "id": "c5bd89b6",
   "metadata": {},
   "outputs": [],
   "source": [
    "import pandas as pd"
   ]
  },
  {
   "cell_type": "code",
   "execution_count": 5,
   "id": "f843b462",
   "metadata": {},
   "outputs": [
    {
     "name": "stdout",
     "output_type": "stream",
     "text": [
      "                       Slack Username                    Country  \\\n",
      "Ayşenur Akcan          @Ayşenur Akcan                    Türkiye   \n",
      "Oni David Sunday              @Sunday                    Nigeria   \n",
      "Noor Ul Ain Amir    @Noor Ul Ain Amir                   Pakistan   \n",
      "Ozlem Kalkan             @anyavala...            Ukraine- Turkey   \n",
      "Daria Kriuchkova               @Daria                    Ukraine   \n",
      "Minenhle Mayisela  @Minenhle Mayisela  Eswatini and South Africa   \n",
      "Seventh Member                   @...                        ...   \n",
      "Eighth Member                    @...                        ...   \n",
      "\n",
      "                               Hobby                           Affiliation  \\\n",
      "Ayşenur Akcan      Mending something         Istanbul Technical University   \n",
      "Oni David Sunday             Reading    Wageningen University and Research   \n",
      "Noor Ul Ain Amir              Baking  Forman Christian College, University   \n",
      "Ozlem Kalkan             doing sport                       Bonn University   \n",
      "Daria Kriuchkova            Knitting         Kharkiv Polytechnic Institute   \n",
      "Minenhle Mayisela            Reading       University of the Witwatersrand   \n",
      "Seventh Member                   ...                                   ...   \n",
      "Eighth Member                    ...                                   ...   \n",
      "\n",
      "                                      DNA Sequence of Favourite Gene  \n",
      "Ayşenur Akcan      TP3- ATGGAGGAGCCGCAGTCAGATCCTAGCGTCGAGCCCCCTCT...  \n",
      "Oni David Sunday   AKT1 - TCTTCTCCCACTCCCCAGCAAAGTCCCCCTTTTGTGAGT...  \n",
      "Noor Ul Ain Amir   SHH - ACAAGCTCTCCAGGCTTGCTACCATTTAAAATCAGACTCT...  \n",
      "Ozlem Kalkan       8OHY - ATGGCTCAAAGCACTGTTTTGCCTATGCACTGTTTATAC...  \n",
      "Daria Kriuchkova   BRCA1 - ATGGAAGTTGTCATTTTGTGTTTCCAGGATTTATTTGC...  \n",
      "Minenhle Mayisela  LMNA - GACAAATTCCTTGACCCGAGGAGGATAGGGATGTGGCCT...  \n",
      "Seventh Member                                                   ...  \n",
      "Eighth Member                                                    ...  \n"
     ]
    }
   ],
   "source": [
    "# Convert to a pandas DataFrame\n",
    "df = pd.DataFrame.from_dict(member_team_asparagine, orient='index')\n",
    "\n",
    "# Display the DataFrame\n",
    "print(df)"
   ]
  },
  {
   "cell_type": "code",
   "execution_count": 6,
   "id": "0adc738b",
   "metadata": {},
   "outputs": [
    {
     "data": {
      "text/plain": [
       "Ayşenur Akcan               Istanbul Technical University\n",
       "Oni David Sunday       Wageningen University and Research\n",
       "Noor Ul Ain Amir     Forman Christian College, University\n",
       "Ozlem Kalkan                              Bonn University\n",
       "Daria Kriuchkova            Kharkiv Polytechnic Institute\n",
       "Minenhle Mayisela         University of the Witwatersrand\n",
       "Seventh Member                                        ...\n",
       "Eighth Member                                         ...\n",
       "Name: Affiliation, dtype: object"
      ]
     },
     "execution_count": 6,
     "metadata": {},
     "output_type": "execute_result"
    }
   ],
   "source": [
    "df['Affiliation']"
   ]
  },
  {
   "cell_type": "code",
   "execution_count": 7,
   "id": "db56a267",
   "metadata": {},
   "outputs": [
    {
     "data": {
      "text/plain": [
       "Ayşenur Akcan                          Türkiye\n",
       "Oni David Sunday                       Nigeria\n",
       "Noor Ul Ain Amir                      Pakistan\n",
       "Ozlem Kalkan                   Ukraine- Turkey\n",
       "Daria Kriuchkova                       Ukraine\n",
       "Minenhle Mayisela    Eswatini and South Africa\n",
       "Seventh Member                             ...\n",
       "Eighth Member                              ...\n",
       "Name: Country, dtype: object"
      ]
     },
     "execution_count": 7,
     "metadata": {},
     "output_type": "execute_result"
    }
   ],
   "source": [
    "df['Country']"
   ]
  },
  {
   "cell_type": "code",
   "execution_count": 8,
   "id": "1b43799b",
   "metadata": {},
   "outputs": [
    {
     "data": {
      "text/plain": [
       "Ayşenur Akcan        TP3- ATGGAGGAGCCGCAGTCAGATCCTAGCGTCGAGCCCCCTCT...\n",
       "Oni David Sunday     AKT1 - TCTTCTCCCACTCCCCAGCAAAGTCCCCCTTTTGTGAGT...\n",
       "Noor Ul Ain Amir     SHH - ACAAGCTCTCCAGGCTTGCTACCATTTAAAATCAGACTCT...\n",
       "Ozlem Kalkan         8OHY - ATGGCTCAAAGCACTGTTTTGCCTATGCACTGTTTATAC...\n",
       "Daria Kriuchkova     BRCA1 - ATGGAAGTTGTCATTTTGTGTTTCCAGGATTTATTTGC...\n",
       "Minenhle Mayisela    LMNA - GACAAATTCCTTGACCCGAGGAGGATAGGGATGTGGCCT...\n",
       "Seventh Member                                                     ...\n",
       "Eighth Member                                                      ...\n",
       "Name: DNA Sequence of Favourite Gene, dtype: object"
      ]
     },
     "execution_count": 8,
     "metadata": {},
     "output_type": "execute_result"
    }
   ],
   "source": [
    "df['DNA Sequence of Favourite Gene']"
   ]
  }
 ],
 "metadata": {
  "kernelspec": {
   "display_name": "venv",
   "language": "python",
   "name": "python3"
  },
  "language_info": {
   "codemirror_mode": {
    "name": "ipython",
    "version": 3
   },
   "file_extension": ".py",
   "mimetype": "text/x-python",
   "name": "python",
   "nbconvert_exporter": "python",
   "pygments_lexer": "ipython3",
   "version": "3.12.2"
  }
 },
 "nbformat": 4,
 "nbformat_minor": 5
}
